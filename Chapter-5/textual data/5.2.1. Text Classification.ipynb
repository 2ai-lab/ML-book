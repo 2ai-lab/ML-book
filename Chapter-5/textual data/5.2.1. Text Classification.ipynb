{
 "cells": [
  {
   "cell_type": "markdown",
   "id": "297d06d0",
   "metadata": {},
   "source": [
    "## Importing libraries"
   ]
  },
  {
   "cell_type": "code",
   "execution_count": 8,
   "id": "0dda54af",
   "metadata": {},
   "outputs": [],
   "source": [
    "import warnings\n",
    "warnings.filterwarnings('ignore')"
   ]
  },
  {
   "cell_type": "code",
   "execution_count": 9,
   "id": "91867ff2",
   "metadata": {},
   "outputs": [],
   "source": [
    "import math\n"
   ]
  },
  {
   "cell_type": "code",
   "execution_count": 53,
   "id": "7b70036e",
   "metadata": {},
   "outputs": [],
   "source": [
    "import numpy as np, pandas as pd\n",
    "import seaborn as sns, matplotlib.pyplot as plt\n",
    "\n",
    "from sklearn.model_selection import train_test_split\n",
    "from sklearn.feature_extraction.text import TfidfVectorizer\n",
    "from sklearn.ensemble import RandomForestClassifier\n",
    "\n",
    "from sklearn.metrics import accuracy_score, confusion_matrix\n",
    "\n",
    "import re\n",
    "import nltk\n",
    "from nltk.corpus import stopwords\n",
    "from nltk.stem.porter import PorterStemmer\n",
    "from nltk.stem import WordNetLemmatizer\n",
    "from nltk.tokenize import word_tokenize"
   ]
  },
  {
   "cell_type": "markdown",
   "id": "cc2ac37d",
   "metadata": {},
   "source": [
    "# NLP"
   ]
  },
  {
   "cell_type": "markdown",
   "id": "a30fc2b8",
   "metadata": {},
   "source": [
    "<img src = \"https://www.encora.com/hs-fs/hubfs/Blog-EncoraML.png?width=800&name=Blog-EncoraML.png\"/>"
   ]
  },
  {
   "cell_type": "markdown",
   "id": "776a58f3",
   "metadata": {},
   "source": [
    "NLP (Natural Languate Processing) is a subset of Artificial Intelligence (sometimes it is also refered to as a branch of computer science) that deals with the teaching the machines to understand and generate languages spoken by the humans. NLP helps extract important information from unstructured texts. Instead of a tool like machine learning or deep learning, NLP should be considered as a problem that can be solved by using ML and DL tools. Solving NLP problems require some specific data pre-processing:\n",
    "\n",
    "<img src = 'https://miro.medium.com/max/1024/1*pzjECYWP8WOWhwfCjebZVw.png'/>"
   ]
  },
  {
   "cell_type": "markdown",
   "id": "ed5ccc09",
   "metadata": {},
   "source": [
    "- **Normalize**: Remove punctuations, lowercase all words. We do this because we want a uniform representation of words everytime. For instance if we search for the word 'jenna', it should also return 'Jenna' or even 'JENNA'.\n",
    "- **Tokenize**: It is considered the first step of NLP. During this step, the whole sentence is chopped into smaller units: usually a list of words.\n",
    "- **Remove Stop Words**: Stop words are those words that occur very frequently in the language. These words are filtered out as they do not give valuable information and are redundant.\n",
    "- **Stemming/Lemmatization**: Sometimes a word can occur in many forms. Such as went and go gives the same meaning. In NLP, such words that give same meanings are reduced to a same word. Stemming uses the root word for the given root, while lemmatization uses the context in which the word was used in order to reduce the word. "
   ]
  },
  {
   "cell_type": "markdown",
   "id": "f20b0bbf",
   "metadata": {},
   "source": [
    "<a href = 'https://neptune.ai/blog/vectorization-techniques-in-nlp-guide'>source</a>\n",
    "# Vectorization\n",
    "Vectorization refers to the classical method of conversion of the the texts to numerical vectors that the computers understand. Basically, it's a feature extraction from texts to machine readable formats. The outputs of the vectorization is then fed to the Machine Learning or Deep Learning algorithms. There are many types of vectorization:\n",
    "\n",
    "## 1. Bag of Words vectorization:\n",
    "<img src = 'https://miro.medium.com/max/1400/1*3IACMnNpwVlCl8kSTJocPA.png'/>\n",
    "\n",
    "This is perhaps the most simple method of vectorization. We construct a sparse matrix of sentences (or documents) and the words that occur in those sentences and count the frequency of those words. As the number of vocabulary increases, the matrrix becomes larger.\n",
    "\n",
    "## 2. TF-IDF Vectorization\n",
    "The bag of model that we saw above gives more weight to the words that occur frequently. As a result, less important words that occur frequently get more importance; such as articles, prepositions, etc. To avoid this, TD-IDF implements an algorithms that help overcome this.\n",
    "\n",
    "### TF\n",
    "\n",
    "\n",
    "\\begin{align}\n",
    "TF = \\frac{Frequency\\, of\\, the\\, word\\, in\\, the\\, document}{Total\\, number\\, of\\, words\\, in\\, that\\, document} \n",
    "\\end{align}\n",
    "\n",
    "### IDF\n",
    "\n",
    "\\begin{align}\n",
    "DF = \\frac{Document\\, containing\\, the\\, word\\,  W}{Total\\, number \\,of\\, documents}\\\\\\\\\n",
    "\\end{align}\n",
    "\n",
    "\\begin{align}\n",
    "IDF = \\log{(\\frac{Total\\, number \\,of\\, documents}{Document\\, containing\\, the\\, word\\,  W})}\n",
    "\\end{align}\n",
    "\n",
    "\n",
    "\n",
    "### TF-IDF\n",
    "\n",
    "\\begin{align}\n",
    "TF-IDF = TF * IDF\n",
    "\\end{align}\n",
    "\n",
    "**Term frequency** can be defined as the ratio of frequency of a particular word to the total number of words in that document. It can be thought of as a normalized score.\n",
    "\n",
    "**Document Frequency** gives us the proportion of the documents that containt that particular word.\n",
    "\n",
    "**Inverse Document Frequency** is the log of inverse of the document frequency. As total number of documents containing a word increases, it becomes less important. We take the log of this value (because the Inverse document frequencey alone could be a very large number as there might be hundred thousand of documents and very few documents containing the word).\n",
    "\n",
    "We multipy the TF and the IDF terms in order to get the final results.\n"
   ]
  },
  {
   "cell_type": "markdown",
   "id": "98d0da96",
   "metadata": {},
   "source": [
    "## 3. Word2Vec\n",
    "\n",
    "Word2Vec is a novel approach developed by Google in 2013. In the previous two approaches, we saw that the words were represented by a single entity (meaning if we had 100 words in the vocabulary, we needed a vector of 100 elements. Imagine hundred of thousands of words.)\n",
    "\n",
    "The main idea behind word2vec is to create a word embedding where the similar words are grouped together."
   ]
  },
  {
   "cell_type": "markdown",
   "id": "f19b1b41",
   "metadata": {},
   "source": [
    "## Implementation"
   ]
  },
  {
   "cell_type": "markdown",
   "id": "139a46d1",
   "metadata": {},
   "source": [
    "We download the necessary word corpus."
   ]
  },
  {
   "cell_type": "code",
   "execution_count": 37,
   "id": "87634362",
   "metadata": {},
   "outputs": [
    {
     "name": "stderr",
     "output_type": "stream",
     "text": [
      "[nltk_data] Downloading package wordnet to /home/siddhi/nltk_data...\n",
      "[nltk_data]   Package wordnet is already up-to-date!\n",
      "[nltk_data] Downloading package omw-1.4 to /home/siddhi/nltk_data...\n",
      "[nltk_data]   Package omw-1.4 is already up-to-date!\n",
      "[nltk_data] Downloading package stopwords to /home/siddhi/nltk_data...\n",
      "[nltk_data]   Package stopwords is already up-to-date!\n",
      "[nltk_data] Downloading package punkt to /home/siddhi/nltk_data...\n",
      "[nltk_data]   Unzipping tokenizers/punkt.zip.\n"
     ]
    },
    {
     "data": {
      "text/plain": [
       "True"
      ]
     },
     "execution_count": 37,
     "metadata": {},
     "output_type": "execute_result"
    }
   ],
   "source": [
    "nltk.download('wordnet')\n",
    "nltk.download('omw-1.4')\n",
    "nltk.download('stopwords')\n",
    "nltk.download('punkt')"
   ]
  },
  {
   "cell_type": "code",
   "execution_count": 56,
   "id": "5ba7b5da",
   "metadata": {},
   "outputs": [],
   "source": [
    "df_fake = pd.read_csv('resources/datasets/Fake.csv')\n",
    "df_true = pd.read_csv('resources/datasets/True.csv')"
   ]
  },
  {
   "cell_type": "code",
   "execution_count": 57,
   "id": "33888c07",
   "metadata": {},
   "outputs": [
    {
     "data": {
      "text/plain": [
       "((23481, 4), (21417, 4))"
      ]
     },
     "execution_count": 57,
     "metadata": {},
     "output_type": "execute_result"
    }
   ],
   "source": [
    "df_fake.shape, df_true.shape"
   ]
  },
  {
   "cell_type": "code",
   "execution_count": 100,
   "id": "66a0f195",
   "metadata": {},
   "outputs": [
    {
     "data": {
      "text/html": [
       "<div>\n",
       "<style scoped>\n",
       "    .dataframe tbody tr th:only-of-type {\n",
       "        vertical-align: middle;\n",
       "    }\n",
       "\n",
       "    .dataframe tbody tr th {\n",
       "        vertical-align: top;\n",
       "    }\n",
       "\n",
       "    .dataframe thead th {\n",
       "        text-align: right;\n",
       "    }\n",
       "</style>\n",
       "<table border=\"1\" class=\"dataframe\">\n",
       "  <thead>\n",
       "    <tr style=\"text-align: right;\">\n",
       "      <th></th>\n",
       "      <th>title</th>\n",
       "      <th>text</th>\n",
       "      <th>subject</th>\n",
       "      <th>date</th>\n",
       "    </tr>\n",
       "  </thead>\n",
       "  <tbody>\n",
       "    <tr>\n",
       "      <th>0</th>\n",
       "      <td>Donald Trump Sends Out Embarrassing New Year’...</td>\n",
       "      <td>Donald Trump just couldn t wish all Americans ...</td>\n",
       "      <td>News</td>\n",
       "      <td>December 31, 2017</td>\n",
       "    </tr>\n",
       "    <tr>\n",
       "      <th>1</th>\n",
       "      <td>Drunk Bragging Trump Staffer Started Russian ...</td>\n",
       "      <td>House Intelligence Committee Chairman Devin Nu...</td>\n",
       "      <td>News</td>\n",
       "      <td>December 31, 2017</td>\n",
       "    </tr>\n",
       "    <tr>\n",
       "      <th>2</th>\n",
       "      <td>Sheriff David Clarke Becomes An Internet Joke...</td>\n",
       "      <td>On Friday, it was revealed that former Milwauk...</td>\n",
       "      <td>News</td>\n",
       "      <td>December 30, 2017</td>\n",
       "    </tr>\n",
       "    <tr>\n",
       "      <th>3</th>\n",
       "      <td>Trump Is So Obsessed He Even Has Obama’s Name...</td>\n",
       "      <td>On Christmas day, Donald Trump announced that ...</td>\n",
       "      <td>News</td>\n",
       "      <td>December 29, 2017</td>\n",
       "    </tr>\n",
       "    <tr>\n",
       "      <th>4</th>\n",
       "      <td>Pope Francis Just Called Out Donald Trump Dur...</td>\n",
       "      <td>Pope Francis used his annual Christmas Day mes...</td>\n",
       "      <td>News</td>\n",
       "      <td>December 25, 2017</td>\n",
       "    </tr>\n",
       "  </tbody>\n",
       "</table>\n",
       "</div>"
      ],
      "text/plain": [
       "                                               title  \\\n",
       "0   Donald Trump Sends Out Embarrassing New Year’...   \n",
       "1   Drunk Bragging Trump Staffer Started Russian ...   \n",
       "2   Sheriff David Clarke Becomes An Internet Joke...   \n",
       "3   Trump Is So Obsessed He Even Has Obama’s Name...   \n",
       "4   Pope Francis Just Called Out Donald Trump Dur...   \n",
       "\n",
       "                                                text subject  \\\n",
       "0  Donald Trump just couldn t wish all Americans ...    News   \n",
       "1  House Intelligence Committee Chairman Devin Nu...    News   \n",
       "2  On Friday, it was revealed that former Milwauk...    News   \n",
       "3  On Christmas day, Donald Trump announced that ...    News   \n",
       "4  Pope Francis used his annual Christmas Day mes...    News   \n",
       "\n",
       "                date  \n",
       "0  December 31, 2017  \n",
       "1  December 31, 2017  \n",
       "2  December 30, 2017  \n",
       "3  December 29, 2017  \n",
       "4  December 25, 2017  "
      ]
     },
     "execution_count": 100,
     "metadata": {},
     "output_type": "execute_result"
    }
   ],
   "source": [
    "df_fake.head(5)"
   ]
  },
  {
   "cell_type": "code",
   "execution_count": 59,
   "id": "2797ada3",
   "metadata": {},
   "outputs": [
    {
     "data": {
      "text/html": [
       "<div>\n",
       "<style scoped>\n",
       "    .dataframe tbody tr th:only-of-type {\n",
       "        vertical-align: middle;\n",
       "    }\n",
       "\n",
       "    .dataframe tbody tr th {\n",
       "        vertical-align: top;\n",
       "    }\n",
       "\n",
       "    .dataframe thead th {\n",
       "        text-align: right;\n",
       "    }\n",
       "</style>\n",
       "<table border=\"1\" class=\"dataframe\">\n",
       "  <thead>\n",
       "    <tr style=\"text-align: right;\">\n",
       "      <th></th>\n",
       "      <th>title</th>\n",
       "      <th>text</th>\n",
       "      <th>subject</th>\n",
       "      <th>date</th>\n",
       "    </tr>\n",
       "  </thead>\n",
       "  <tbody>\n",
       "    <tr>\n",
       "      <th>0</th>\n",
       "      <td>As U.S. budget fight looms, Republicans flip t...</td>\n",
       "      <td>WASHINGTON (Reuters) - The head of a conservat...</td>\n",
       "      <td>politicsNews</td>\n",
       "      <td>December 31, 2017</td>\n",
       "    </tr>\n",
       "    <tr>\n",
       "      <th>1</th>\n",
       "      <td>U.S. military to accept transgender recruits o...</td>\n",
       "      <td>WASHINGTON (Reuters) - Transgender people will...</td>\n",
       "      <td>politicsNews</td>\n",
       "      <td>December 29, 2017</td>\n",
       "    </tr>\n",
       "    <tr>\n",
       "      <th>2</th>\n",
       "      <td>Senior U.S. Republican senator: 'Let Mr. Muell...</td>\n",
       "      <td>WASHINGTON (Reuters) - The special counsel inv...</td>\n",
       "      <td>politicsNews</td>\n",
       "      <td>December 31, 2017</td>\n",
       "    </tr>\n",
       "    <tr>\n",
       "      <th>3</th>\n",
       "      <td>FBI Russia probe helped by Australian diplomat...</td>\n",
       "      <td>WASHINGTON (Reuters) - Trump campaign adviser ...</td>\n",
       "      <td>politicsNews</td>\n",
       "      <td>December 30, 2017</td>\n",
       "    </tr>\n",
       "    <tr>\n",
       "      <th>4</th>\n",
       "      <td>Trump wants Postal Service to charge 'much mor...</td>\n",
       "      <td>SEATTLE/WASHINGTON (Reuters) - President Donal...</td>\n",
       "      <td>politicsNews</td>\n",
       "      <td>December 29, 2017</td>\n",
       "    </tr>\n",
       "  </tbody>\n",
       "</table>\n",
       "</div>"
      ],
      "text/plain": [
       "                                               title  \\\n",
       "0  As U.S. budget fight looms, Republicans flip t...   \n",
       "1  U.S. military to accept transgender recruits o...   \n",
       "2  Senior U.S. Republican senator: 'Let Mr. Muell...   \n",
       "3  FBI Russia probe helped by Australian diplomat...   \n",
       "4  Trump wants Postal Service to charge 'much mor...   \n",
       "\n",
       "                                                text       subject  \\\n",
       "0  WASHINGTON (Reuters) - The head of a conservat...  politicsNews   \n",
       "1  WASHINGTON (Reuters) - Transgender people will...  politicsNews   \n",
       "2  WASHINGTON (Reuters) - The special counsel inv...  politicsNews   \n",
       "3  WASHINGTON (Reuters) - Trump campaign adviser ...  politicsNews   \n",
       "4  SEATTLE/WASHINGTON (Reuters) - President Donal...  politicsNews   \n",
       "\n",
       "                 date  \n",
       "0  December 31, 2017   \n",
       "1  December 29, 2017   \n",
       "2  December 31, 2017   \n",
       "3  December 30, 2017   \n",
       "4  December 29, 2017   "
      ]
     },
     "execution_count": 59,
     "metadata": {},
     "output_type": "execute_result"
    }
   ],
   "source": [
    "df_true.head(5)"
   ]
  },
  {
   "cell_type": "markdown",
   "id": "33311f76",
   "metadata": {},
   "source": [
    "We need to add target labels to each dataset 1 for true and 0 for false, then we concat the dataset."
   ]
  },
  {
   "cell_type": "code",
   "execution_count": 81,
   "id": "c1fd8432",
   "metadata": {},
   "outputs": [],
   "source": [
    "df_true['text'] = df_true['text'].str.replace(\n",
    "    \".*Reuters..-.\",\n",
    "    \"\", \n",
    "    regex=True\n",
    ")"
   ]
  },
  {
   "cell_type": "code",
   "execution_count": 83,
   "id": "a7330aec",
   "metadata": {},
   "outputs": [],
   "source": [
    "def concat_dataset(df_true, df_false):\n",
    "    df_true = df_true.drop(columns=[\"title\", \"subject\", \"date\"])\n",
    "    df_false = df_false.drop(columns=[\"title\", \"subject\", \"date\"])\n",
    "    \n",
    "    df_true['label'] = 1\n",
    "    df_false['label'] = 0\n",
    "    df = pd.concat([df_true,df_false])\n",
    "    return df"
   ]
  },
  {
   "cell_type": "code",
   "execution_count": 84,
   "id": "d7301f93",
   "metadata": {},
   "outputs": [],
   "source": [
    "df = concat_dataset(df_true, df_fake)"
   ]
  },
  {
   "cell_type": "code",
   "execution_count": 85,
   "id": "32a8123b",
   "metadata": {},
   "outputs": [
    {
     "name": "stdout",
     "output_type": "stream",
     "text": [
      "(44898,) (44898,)\n"
     ]
    }
   ],
   "source": [
    "X = df[\"text\"]\n",
    "y = df[\"label\"]\n",
    "print(X.shape, y.shape)"
   ]
  },
  {
   "cell_type": "code",
   "execution_count": 86,
   "id": "bcf8278d",
   "metadata": {},
   "outputs": [],
   "source": [
    "stop_words = set(stopwords.words('english')) \n",
    "def lammetize_func(x):\n",
    "    \"\"\"\n",
    "        remove stop words, lowercase and lammetize\n",
    "    \"\"\"\n",
    "    lemmatizer = WordNetLemmatizer()\n",
    "    return ' '.join(\n",
    "        [\n",
    "            lemmatizer.lemmatize(x.lower()) \n",
    "            for x in word_tokenize(x) \n",
    "            if x.lower() not in stop_words]\n",
    "    )"
   ]
  },
  {
   "cell_type": "code",
   "execution_count": 87,
   "id": "25a28d41",
   "metadata": {},
   "outputs": [],
   "source": [
    "X = [lammetize_func(x) for x in df['text']]"
   ]
  },
  {
   "cell_type": "code",
   "execution_count": 88,
   "id": "cbee832f",
   "metadata": {},
   "outputs": [],
   "source": [
    "X = pd.DataFrame(X)"
   ]
  },
  {
   "cell_type": "code",
   "execution_count": 89,
   "id": "bc235ec4",
   "metadata": {},
   "outputs": [
    {
     "data": {
      "text/plain": [
       "((35918, 1), (8980, 1), (35918,), (8980,))"
      ]
     },
     "execution_count": 89,
     "metadata": {},
     "output_type": "execute_result"
    }
   ],
   "source": [
    "x_train, x_test, y_train, y_test = train_test_split(\n",
    "    X,y, test_size=0.2, random_state=7\n",
    ")\n",
    "x_train.shape, x_test.shape, y_train.shape, y_test.shape"
   ]
  },
  {
   "cell_type": "code",
   "execution_count": 90,
   "id": "b19737ba",
   "metadata": {},
   "outputs": [],
   "source": [
    "# create the transform\n",
    "vectorizer = TfidfVectorizer()\n",
    "# transforming\n",
    "tfidf_train = vectorizer.fit_transform(\n",
    "    x_train.iloc[:,0]\n",
    ")\n",
    "tfidf_test = vectorizer.transform(\n",
    "    x_test.iloc[:,0]\n",
    ")"
   ]
  },
  {
   "cell_type": "code",
   "execution_count": 91,
   "id": "a57c7c9c",
   "metadata": {},
   "outputs": [
    {
     "data": {
      "text/plain": [
       "((35918, 105770), (8980, 105770))"
      ]
     },
     "execution_count": 91,
     "metadata": {},
     "output_type": "execute_result"
    }
   ],
   "source": [
    "tfidf_train.shape, tfidf_test.shape"
   ]
  },
  {
   "cell_type": "code",
   "execution_count": 92,
   "id": "16bbe877",
   "metadata": {},
   "outputs": [
    {
     "name": "stdout",
     "output_type": "stream",
     "text": [
      "Accuracy: 98.84%\n"
     ]
    }
   ],
   "source": [
    "pac = RandomForestClassifier(random_state = 7, )\n",
    "pac.fit(tfidf_train, y_train.values.ravel())\n",
    "\n",
    "#Predict on the test set and calculate accuracy\n",
    "y_pred = pac.predict(tfidf_test)\n",
    "score = accuracy_score(y_test, y_pred)\n",
    "\n",
    "print(f'Accuracy: {round(score*100, 2)}%')"
   ]
  },
  {
   "cell_type": "code",
   "execution_count": 93,
   "id": "7f60cf6f",
   "metadata": {},
   "outputs": [
    {
     "data": {
      "text/plain": [
       "'u.s. president donald trump ’ move revise travel ban citizen certain muslim-majority country lessen impact tourism , head un world tourism organization said . “ people ’ go place ’ feel welcome , ” taleb rifai , secretary general tourism organization , told reuters , world ’ biggest travel trade fair , itb berlin , open wednesday . trump monday signed revised executive order banning citizen six muslim-majority nation traveling united state removing iraq list , controversial first attempt blocked court . “ ’ detail country included , ’ attitude , ” rifai said tuesday . last week , told reuters united state lost $ 185 million one month first ban introduced stood lose ten million month similar policy continued . data travel analysis company forwardkeys week showed demand travel united state coming month already flattened following positive start year . downturn demand travel united state expected impact travel general . international tourist number expected grow 3 4 percent year last year ’ 1.24 billion , rifai said tuesday . “ world opened incredible way . many option . want gamble , ’ go la vega , go macau instead , ” said . market researcher euromonitor cut forecast u.s. arrival 2020 84.2 million 85.2 million amid uncertainty travel ban . caroline bremner , head travel research euromonitor , said seven country included original travel ban represented 0.1 percent total inbound traveler . “ impact volume going much message u.s. sending business leisure traveler around world , level international openness type welcome receive new government , ” said .'"
      ]
     },
     "execution_count": 93,
     "metadata": {},
     "output_type": "execute_result"
    }
   ],
   "source": [
    "x_test[0][5096]"
   ]
  },
  {
   "cell_type": "code",
   "execution_count": 94,
   "id": "f422c88f",
   "metadata": {},
   "outputs": [
    {
     "data": {
      "image/png": "[encoded data removed]",
      "text/plain": [
       "<Figure size 640x480 with 2 Axes>"
      ]
     },
     "metadata": {},
     "output_type": "display_data"
    }
   ],
   "source": [
    "ax = sns.heatmap(confusion_matrix(y_test,y_pred), annot=True, fmt=\"d\")\n",
    "ax.set(xlabel='Prediction', ylabel='Actual')\n",
    "plt.show()"
   ]
  },
  {
   "cell_type": "code",
   "execution_count": 131,
   "id": "39dc7005",
   "metadata": {},
   "outputs": [],
   "source": [
    "def predictor(news, vectorizer):\n",
    "    lnews = lammetize_func(news)\n",
    "\n",
    "    df = pd.DataFrame([lnews])\n",
    "\n",
    "    x = df.iloc[:,0]\n",
    "    x = vectorizer.transform(x)\n",
    "\n",
    "    x_pred = pac.predict(x)\n",
    "\n",
    "    return 'Not Fake' if x_pred[0] == 1 else 'Fake' "
   ]
  },
  {
   "cell_type": "code",
   "execution_count": 134,
   "id": "3dcdc8b7",
   "metadata": {},
   "outputs": [
    {
     "data": {
      "text/plain": [
       "'Not Fake'"
      ]
     },
     "execution_count": 134,
     "metadata": {},
     "output_type": "execute_result"
    }
   ],
   "source": [
    "predictor(\"\"\"'berlin ( reuters ) - u.s. president donald trump ’ move revise travel ban citizen certain muslim-majority country lessen impact tourism , head un world tourism organization said . “ people ’ go place ’ feel welcome , ” taleb rifai , secretary general tourism organization , told reuters , world ’ biggest travel trade fair , itb berlin , open wednesday . trump monday signed revised executive order banning citizen six muslim-majority nation traveling united state removing iraq list , controversial first attempt blocked court . “ ’ detail country included , ’ attitude , ” rifai said tuesday . last week , told reuters united state lost $ 185 million one month first ban introduced stood lose ten million month similar policy continued . data travel analysis company forwardkeys week showed demand travel united state coming month already flattened following positive start year . downturn demand travel united state expected impact travel general . international tourist number expected grow 3 4 percent year last year ’ 1.24 billion , rifai said tuesday . “ world opened incredible way . many option . want gamble , ’ go la vega , go macau instead , ” said . market researcher euromonitor cut forecast u.s. arrival 2020 84.2 million 85.2 million amid uncertainty travel ban . caroline bremner , head travel research euromonitor , said seven country included original travel ban represented 0.1 percent total inbound traveler . “ impact volume going much message u.s. sending business leisure traveler around world , level international openness type welcome receive new government , ” said .'\"\"\", vectorizer)"
   ]
  },
  {
   "cell_type": "code",
   "execution_count": null,
   "id": "017a288f",
   "metadata": {},
   "outputs": [],
   "source": []
  }
 ],
 "metadata": {
  "kernelspec": {
   "display_name": "Python 3 (ipykernel)",
   "language": "python",
   "name": "python3"
  },
  "language_info": {
   "codemirror_mode": {
    "name": "ipython",
    "version": 3
   },
   "file_extension": ".py",
   "mimetype": "text/x-python",
   "name": "python",
   "nbconvert_exporter": "python",
   "pygments_lexer": "ipython3",
   "version": "3.9.16"
  }
 },
 "nbformat": 4,
 "nbformat_minor": 5
}
